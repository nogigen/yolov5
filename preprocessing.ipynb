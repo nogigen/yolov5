{
 "cells": [
  {
   "cell_type": "code",
   "execution_count": 1,
   "metadata": {},
   "outputs": [],
   "source": [
    "import os\n",
    "from PIL import Image\n",
    "import shutil"
   ]
  },
  {
   "cell_type": "code",
   "execution_count": 2,
   "metadata": {},
   "outputs": [
    {
     "name": "stdout",
     "output_type": "stream",
     "text": [
      "C:\\Users\\Asus\\Desktop\\rapsodo\\q1\n",
      "['.ipynb_checkpoints', 'assignment_sample_data', 'preprocessing.ipynb']\n"
     ]
    }
   ],
   "source": [
    "root_path = os.path.abspath(os.getcwd())\n",
    "print(root_path)\n",
    "print(os.listdir())"
   ]
  },
  {
   "cell_type": "code",
   "execution_count": 3,
   "metadata": {},
   "outputs": [
    {
     "name": "stdout",
     "output_type": "stream",
     "text": [
      "['offline-Debug_1764_1584138315', 'offline-Debug_1782_1580938671', 'offline-Debug_1799_1586552200', 'offline-Debug_1814_1586541810', 'offline-Debug_1876_1584576945', 'offline-Debug_1927_1579706832', 'offline-Debug_1945_1584136965', 'offline-Debug_1979_1583361809', 'offline-Debug_1989_1582589187', 'offline-Debug_2008_1580253684', 'offline-Debug_2023_1586554284', 'offline-Debug_2041_1584887844', 'offline-Debug_2085_1580245859', 'offline-Debug_2114_1582645034', 'offline-Debug_2119_1581271320', 'offline-Debug_2135_1586557007', 'offline-Debug_2161_1574281864', 'offline-Debug_2172_1583237822', 'offline-Debug_2204_1573495412', 'offline-Debug_2239_1584219134', 'offline-Debug_2242_1580430430', 'offline-Debug_2291_1584721245', 'offline-Debug_2321_1576722389', 'offline-Debug_2369_1584134228', 'offline-Debug_2443_1585078727', 'offline-Debug_2461_1584049867', 'offline-Debug_2463_1578866734', 'offline-Debug_2477_1580782572', 'offline-Debug_2515_1582316243', 'offline-Debug_2536_1574369193', 'offline-Debug_2549_1580953704', 'offline-Debug_2566_1571170807', 'offline-Debug_2587_1582579313', 'offline-Debug_2590_1582650304', 'offline-Debug_2604_1581269250', 'offline-Debug_2615_1580668421', 'offline-Debug_2666_1582768093', 'offline-Debug_2669_1576023374', 'offline-Debug_2687_1583286734', 'offline-Debug_2689_1579822208', 'offline-Debug_2697_1581104134', 'offline-Debug_2703_1582745798', 'offline-Debug_2714_1579816254', 'offline-Debug_2717_1579654436', 'offline-Debug_2731_1582754668', 'offline-Debug_301517_1580077123', 'offline-Debug_304896_1586294438', 'offline-Debug_400897_1583152712', 'offline-Debug_401712_1582090775', 'offline-Debug_403367_1581455541', 'offline-Debug_406009_1581450938', 'offline-Debug_408164_1581558639']\n"
     ]
    }
   ],
   "source": [
    "os.chdir('assignment_sample_data')\n",
    "print(os.listdir())"
   ]
  },
  {
   "cell_type": "code",
   "execution_count": 4,
   "metadata": {},
   "outputs": [
    {
     "name": "stdout",
     "output_type": "stream",
     "text": [
      "1381.0\n"
     ]
    }
   ],
   "source": [
    "# when i first ran this code, the output was 1381.5\n",
    "noOfData = 0\n",
    "for folder in os.listdir():\n",
    "    os.chdir(folder)\n",
    "    noOfData = noOfData + len(os.listdir()) / 2\n",
    "    os.chdir(\"../\")\n",
    "print(noOfData)"
   ]
  },
  {
   "cell_type": "code",
   "execution_count": 5,
   "metadata": {},
   "outputs": [],
   "source": [
    "for folder in os.listdir():\n",
    "    os.chdir(folder)\n",
    "    if len(os.listdir()) % 2 != 0:\n",
    "        print(folder)\n",
    "    os.chdir(\"../\")"
   ]
  },
  {
   "cell_type": "code",
   "execution_count": 6,
   "metadata": {},
   "outputs": [],
   "source": [
    "os.chdir(\"offline-Debug_301517_1580077123\")"
   ]
  },
  {
   "cell_type": "code",
   "execution_count": 7,
   "metadata": {},
   "outputs": [
    {
     "name": "stdout",
     "output_type": "stream",
     "text": [
      "['IMG10.bmp', 'IMG10.txt', 'IMG11.bmp', 'IMG11.txt', 'IMG12.bmp', 'IMG12.txt', 'IMG13.bmp', 'IMG13.txt', 'IMG14.bmp', 'IMG14.txt', 'IMG15.bmp', 'IMG15.txt', 'IMG16.bmp', 'IMG16.txt', 'IMG17.bmp', 'IMG17.txt', 'IMG18.bmp', 'IMG18.txt', 'IMG19.bmp', 'IMG19.txt', 'IMG20.bmp', 'IMG20.txt', 'IMG21.bmp', 'IMG21.txt', 'IMG22.bmp', 'IMG22.txt', 'IMG23.bmp', 'IMG23.txt', 'IMG24.bmp', 'IMG24.txt', 'IMG25.bmp', 'IMG25.txt', 'IMG26.bmp', 'IMG26.txt', 'IMG27.bmp', 'IMG27.txt', 'IMG28.bmp', 'IMG28.txt', 'IMG29.bmp', 'IMG29.txt', 'IMG30.bmp', 'IMG30.txt', 'IMG31.bmp', 'IMG31.txt', 'IMG6.bmp', 'IMG6.txt', 'IMG7.bmp', 'IMG7.txt', 'IMG8.bmp', 'IMG8.txt', 'IMG9.bmp', 'IMG9.txt']\n"
     ]
    }
   ],
   "source": [
    "print(os.listdir())"
   ]
  },
  {
   "cell_type": "code",
   "execution_count": 8,
   "metadata": {},
   "outputs": [],
   "source": [
    "if \"IMG5.txt\" in os.listdir(): # already deleted.\n",
    "    os.remove(\"IMG5.txt\")\n",
    "os.chdir(\"../\")"
   ]
  },
  {
   "cell_type": "code",
   "execution_count": 9,
   "metadata": {},
   "outputs": [
    {
     "name": "stdout",
     "output_type": "stream",
     "text": [
      "1381.0\n"
     ]
    }
   ],
   "source": [
    "noOfData = 0\n",
    "for folder in os.listdir():\n",
    "    os.chdir(folder)\n",
    "    noOfData = noOfData + len(os.listdir()) / 2\n",
    "    os.chdir(\"../\")\n",
    "print(noOfData)"
   ]
  },
  {
   "cell_type": "code",
   "execution_count": 10,
   "metadata": {},
   "outputs": [],
   "source": [
    "os.chdir(\"../\")\n",
    "if \"images\" and \"labels\" not in os.listdir():\n",
    "    os.mkdir(\"images\")\n",
    "    os.mkdir(\"labels\")"
   ]
  },
  {
   "cell_type": "code",
   "execution_count": 11,
   "metadata": {},
   "outputs": [
    {
     "name": "stdout",
     "output_type": "stream",
     "text": [
      "['.ipynb_checkpoints', 'assignment_sample_data', 'images', 'labels', 'preprocessing.ipynb']\n"
     ]
    }
   ],
   "source": [
    "print(os.listdir())"
   ]
  },
  {
   "cell_type": "code",
   "execution_count": 12,
   "metadata": {},
   "outputs": [],
   "source": [
    "os.chdir(\"images\")\n",
    "if \"train\" and \"val\" not in os.listdir():\n",
    "    os.mkdir(\"train\")\n",
    "    os.mkdir(\"val\")\n",
    "os.chdir(\"../\")\n",
    "\n",
    "os.chdir(\"labels\")\n",
    "if \"train\" and \"val\" not in os.listdir():\n",
    "    os.mkdir(\"train\")\n",
    "    os.mkdir(\"val\")\n",
    "os.chdir(\"../\")"
   ]
  },
  {
   "cell_type": "code",
   "execution_count": 13,
   "metadata": {},
   "outputs": [],
   "source": [
    "os.chdir('assignment_sample_data')"
   ]
  },
  {
   "cell_type": "code",
   "execution_count": 14,
   "metadata": {},
   "outputs": [],
   "source": [
    "trainPercentage = 0.8\n",
    "validationPercentage = 1 - trainPercentage"
   ]
  },
  {
   "cell_type": "code",
   "execution_count": 15,
   "metadata": {},
   "outputs": [
    {
     "name": "stdout",
     "output_type": "stream",
     "text": [
      "1104\n",
      "277\n",
      "1381.0\n",
      "1381\n"
     ]
    }
   ],
   "source": [
    "trainNo = int(noOfData * trainPercentage)\n",
    "validationNo = int(noOfData - trainNo)\n",
    "\n",
    "print(trainNo)\n",
    "print(validationNo)\n",
    "print(noOfData)\n",
    "print(trainNo + validationNo)"
   ]
  },
  {
   "cell_type": "code",
   "execution_count": 16,
   "metadata": {},
   "outputs": [],
   "source": [
    "imageCount = 0\n",
    "labelCount = 0\n",
    "toTrainVal = False\n",
    "toLabelVal = False\n",
    "width = 1024\n",
    "height = 1280\n",
    "\n",
    "for folder in os.listdir():\n",
    "    os.chdir(folder)\n",
    "    for file in os.listdir():\n",
    "        extensions = file.split(\".\")\n",
    "        filename = extensions[0]\n",
    "        extension = extensions[1]\n",
    "        \n",
    "        if extension == \"bmp\":\n",
    "            imageCount += 1\n",
    "            if not toTrainVal:\n",
    "                img = Image.open(f\"{filename}.bmp\")\n",
    "                new_img = img.resize( (width, height) )\n",
    "                newFile = root_path + f\"\\\\images\\\\train\\\\{imageCount}.jpeg\"\n",
    "                new_img.save( newFile, 'jpeg')\n",
    "                \n",
    "                original = filename + \".txt\"\n",
    "                target = root_path + f\"\\\\labels\\\\train\\\\{imageCount}.txt\"                \n",
    "                shutil.copyfile(original, target)\n",
    "                \n",
    "                if imageCount == trainNo:\n",
    "                    imageCount = 0\n",
    "                    toTrainVal = True\n",
    "                \n",
    "            else:                \n",
    "                img = Image.open(f\"{filename}.bmp\")\n",
    "                new_img = img.resize( (width, height) )\n",
    "                newFile = root_path + f\"\\\\images\\\\val\\\\{imageCount}.jpeg\"\n",
    "                new_img.save( newFile, 'jpeg')\n",
    "                \n",
    "                original = filename + \".txt\"\n",
    "                target = root_path + f\"\\\\labels\\\\val\\\\{imageCount}.txt\"\n",
    "                shutil.copyfile(original, target)             \n",
    "            \n",
    "\n",
    "                \n",
    "    os.chdir(\"../\")                  "
   ]
  },
  {
   "cell_type": "code",
   "execution_count": null,
   "metadata": {},
   "outputs": [],
   "source": []
  }
 ],
 "metadata": {
  "kernelspec": {
   "display_name": "Python 3",
   "language": "python",
   "name": "python3"
  },
  "language_info": {
   "codemirror_mode": {
    "name": "ipython",
    "version": 3
   },
   "file_extension": ".py",
   "mimetype": "text/x-python",
   "name": "python",
   "nbconvert_exporter": "python",
   "pygments_lexer": "ipython3",
   "version": "3.6.5"
  }
 },
 "nbformat": 4,
 "nbformat_minor": 2
}
